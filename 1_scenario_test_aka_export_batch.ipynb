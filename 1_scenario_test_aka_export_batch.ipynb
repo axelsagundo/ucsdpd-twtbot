{
 "cells": [
  {
   "cell_type": "code",
   "execution_count": null,
   "metadata": {},
   "outputs": [],
   "source": [
    "import requests\n",
    "from bs4 import BeautifulSoup\n",
    "from datetime import datetime\n",
    "import json"
   ]
  },
  {
   "cell_type": "code",
   "execution_count": null,
   "metadata": {},
   "outputs": [],
   "source": [
    "#Police Logs Website URL \n",
    "policelogs_url = 'https://www.police.ucsd.edu/docs/reports/callsandarrests/Calls_and_Arrests.asp'\n",
    "pdf_url_prepend = 'https://www.police.ucsd.edu/docs/reports/callsandarrests/'\n",
    "extended_url_prepend = 'https://www.police.ucsd.edu/docs/reports/callsandarrests/CallsForService/'"
   ]
  },
  {
   "cell_type": "code",
   "execution_count": null,
   "metadata": {},
   "outputs": [],
   "source": [
    "# Simply reads the first line of a filepath. \n",
    "def get_last_date_tweeted(filepath): \n",
    "    try:\n",
    "        with open(filepath, 'r') as file:       \n",
    "            return file.readline()\n",
    "    except FileNotFoundError:\n",
    "        print(f\"The file '{filepath}' was not found.\")\n",
    "    except IOError as e:\n",
    "        print(f\"An error occurred: {e}\")\n",
    "\n",
    "# Simply writes a single line to a filepath .\n",
    "def write_last_date_tweeted(filepath, line_to_write): \n",
    "    try:\n",
    "        with open(filepath, 'w') as file:\n",
    "            file.write(line_to_write)\n",
    "            print(f\"Line written to '{filepath}': {line_to_write}\")\n",
    "    except IOError as e:\n",
    "        print(f\"An error occurred: {e}\")\n",
    "\n",
    "'''\n",
    "    Goes to the police pdf website and gets the \n",
    "    option values of all tags that have values. \n",
    "'''\n",
    "def get_all_pdf_paths():\n",
    "    response = requests.get(policelogs_url)\n",
    "    soup = BeautifulSoup(response.text, 'html.parser')\n",
    "    links = soup.find_all('option')\n",
    "    return [link['value'].split('/')[1] for link in links if link['value']]\n",
    "\n",
    "'''\n",
    "    formats a pdf date into a date object.\n",
    "     ex: 'September 27, 2023 UPDATED.pdf' or 'October 4, 2023.pdf'\n",
    "'''\n",
    "def get_date_object(unformatted_date): \n",
    "    split_u_d = unformatted_date.split(' ')\n",
    "    month_part, day_part, year_part = split_u_d[0],  split_u_d[1], split_u_d[2].split('.')[0]\n",
    "    date_string = month_part + \" \" + day_part + \" \" + year_part\n",
    "    return datetime.strptime(date_string, '%B %d, %Y')\n",
    "\n",
    "'''\n",
    "    Gets the pdf names of all the files that need to be\n",
    "     downloaded based on the last date tweeted. \n",
    "'''\n",
    "def get_download_batch_names(all_dates, last_date): \n",
    "    return [date_str for date_str in all_dates if get_date_object(date_str) > get_date_object(last_date)]\n",
    "\n",
    "'''\n",
    "order the batch dates 2222\n",
    "'''\n",
    "\n",
    "def get_download_batch_names_222(all_dates, last_date):\n",
    "    ret_ar = []\n",
    "    for date_str in all_dates:\n",
    "        if get_date_object(date_str) > get_date_object(last_date) and get_date_object(date_str) < get_date_object(\"September 1, 2023.pdf\"):\n",
    "            ret_ar.append(date_str)\n",
    "\n",
    "    return ret_ar\n",
    "\n",
    "\n"
   ]
  },
  {
   "cell_type": "markdown",
   "metadata": {},
   "source": [
    "# GOT LAST DATE PRINTED"
   ]
  },
  {
   "cell_type": "code",
   "execution_count": null,
   "metadata": {},
   "outputs": [],
   "source": [
    "'''\n",
    "Lets say that there is a file with a single date on it\n",
    "and it is the last date that the bot tweeted the crime logs. \n",
    "We need to find all the dates following this date. \n",
    "'''\n",
    "\n",
    "# Get the LAST DATE TWEETED\n",
    "last_date_filepath = 'last_date_tweeted.txt'\n",
    "last_date = get_last_date_tweeted(last_date_filepath)\n",
    "\n",
    "print(last_date)\n"
   ]
  },
  {
   "cell_type": "markdown",
   "metadata": {},
   "source": [
    "# GOT ALL THE PDF LINK PATHS/DATES"
   ]
  },
  {
   "cell_type": "code",
   "execution_count": null,
   "metadata": {},
   "outputs": [],
   "source": [
    "# Get the list of ALL pdfs/dates currently on the website.\n",
    "link_dates = get_all_pdf_paths()"
   ]
  },
  {
   "cell_type": "code",
   "execution_count": null,
   "metadata": {},
   "outputs": [],
   "source": [
    "print(link_dates)"
   ]
  },
  {
   "cell_type": "markdown",
   "metadata": {},
   "source": [
    "# GOT THE PDF BATCH WE NEED TO TWEET BASED ON THE LAST TIME WE TWEETED"
   ]
  },
  {
   "cell_type": "code",
   "execution_count": null,
   "metadata": {},
   "outputs": [],
   "source": [
    "batch_of_pdfs_needed_to_be_tweeted = get_download_batch_names_222(link_dates, last_date) #### CHANGE THIS BACK\n",
    "print(batch_of_pdfs_needed_to_be_tweeted)"
   ]
  },
  {
   "cell_type": "markdown",
   "metadata": {},
   "source": [
    "# ORDER THE BATCH BEFORE WE EXPORT IT"
   ]
  },
  {
   "cell_type": "code",
   "execution_count": null,
   "metadata": {},
   "outputs": [],
   "source": [
    "sorted_batch = sorted(batch_of_pdfs_needed_to_be_tweeted, key=get_date_object)\n",
    "\n",
    "for item in sorted_batch:\n",
    "    print(item)"
   ]
  },
  {
   "cell_type": "code",
   "execution_count": null,
   "metadata": {},
   "outputs": [],
   "source": [
    "\n",
    "#DONT LEAVE THIS IN\n",
    "\n",
    "\n",
    "sorted_batch = sorted_batch[:5]"
   ]
  },
  {
   "cell_type": "code",
   "execution_count": null,
   "metadata": {},
   "outputs": [],
   "source": [
    "sorted_batch"
   ]
  },
  {
   "cell_type": "markdown",
   "metadata": {},
   "source": [
    "# WRITE to JSON FILE FUNCTION"
   ]
  },
  {
   "cell_type": "code",
   "execution_count": null,
   "metadata": {},
   "outputs": [],
   "source": [
    "def export_batch_to_json_file(filepath, batch):\n",
    "    try:\n",
    "        # Open the JSON file in write mode ('w')\n",
    "        with open(filepath, 'w') as file:\n",
    "            # Write the Python list as a JSON list to the file\n",
    "            json.dump(batch, file)\n",
    "            \n",
    "        print(f\"Data written to '{filepath}' successfully.\")\n",
    "\n",
    "    except IOError as e:\n",
    "        print(f\"An error occurred: {e}\")\n"
   ]
  },
  {
   "cell_type": "markdown",
   "metadata": {},
   "source": [
    "# MOMENT WHERE WE EXPORT THIS BATCH. "
   ]
  },
  {
   "cell_type": "code",
   "execution_count": null,
   "metadata": {},
   "outputs": [],
   "source": [
    "json_file_path = 'batch_to_download.json'\n",
    "\n",
    "export_batch_to_json_file(json_file_path, sorted_batch)"
   ]
  }
 ],
 "metadata": {
  "kernelspec": {
   "display_name": "base",
   "language": "python",
   "name": "python3"
  },
  "language_info": {
   "codemirror_mode": {
    "name": "ipython",
    "version": 3
   },
   "file_extension": ".py",
   "mimetype": "text/x-python",
   "name": "python",
   "nbconvert_exporter": "python",
   "pygments_lexer": "ipython3",
   "version": "3.9.12"
  },
  "orig_nbformat": 4
 },
 "nbformat": 4,
 "nbformat_minor": 2
}
