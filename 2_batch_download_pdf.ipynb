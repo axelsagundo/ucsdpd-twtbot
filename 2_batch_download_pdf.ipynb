{
 "cells": [
  {
   "cell_type": "markdown",
   "metadata": {},
   "source": [
    "# Read the batch_to_download JSON file"
   ]
  },
  {
   "cell_type": "code",
   "execution_count": null,
   "metadata": {},
   "outputs": [],
   "source": [
    "import json    "
   ]
  },
  {
   "cell_type": "code",
   "execution_count": null,
   "metadata": {},
   "outputs": [],
   "source": [
    "def read_batch_json(filepath):\n",
    "    try:\n",
    "        # Open and read the JSON file\n",
    "        with open(filepath, 'r') as file:\n",
    "            # Parse the JSON content into a Python list\n",
    "            data_list = json.load(file)\n",
    "\n",
    "            \n",
    "            # Now, data_list contains the content of the JSON file as a Python list\n",
    "            print(data_list)\n",
    "            return data_list\n",
    "            \n",
    "    except FileNotFoundError:\n",
    "        print(f\"The file '{filepath}' was not found.\")\n",
    "    except json.JSONDecodeError as e:\n",
    "        print(f\"Error decoding JSON: {e}\")\n",
    "    except IOError as e:\n",
    "        print(f\"An error occurred: {e}\")\n"
   ]
  },
  {
   "cell_type": "code",
   "execution_count": null,
   "metadata": {},
   "outputs": [],
   "source": [
    "json_file_path = 'batch_to_download.json'\n",
    "pdf_batch_list = read_batch_json(json_file_path)"
   ]
  },
  {
   "cell_type": "markdown",
   "metadata": {},
   "source": [
    "# Notice: if we print out the pdf batch list, we either have an empty array or a sorted array with 1 element or more. "
   ]
  },
  {
   "cell_type": "code",
   "execution_count": null,
   "metadata": {},
   "outputs": [],
   "source": [
    "import requests"
   ]
  },
  {
   "cell_type": "markdown",
   "metadata": {},
   "source": [
    "# DOWNLOAD THE PDF FILES."
   ]
  },
  {
   "cell_type": "code",
   "execution_count": null,
   "metadata": {},
   "outputs": [],
   "source": [
    "def download_pdf_files():\n",
    "\n",
    "    extended_url_prepend = 'https://www.police.ucsd.edu/docs/reports/callsandarrests/CallsForService/'\n",
    "    \n",
    "    for pdf in pdf_batch_list:\n",
    "        pdf_url = (extended_url_prepend + pdf).replace(' ', \"%20\")\n",
    "        save_path = pdf.replace(' ', '_').replace(',', '')\n",
    "        \n",
    "        try:\n",
    "            # Send an HTTP GET request to the PDF URL\n",
    "            response = requests.get(pdf_url)\n",
    "            # Check if the request was successful (HTTP status code 200)\n",
    "            if response.status_code == 200:\n",
    "                # Open the file in binary write ('wb') mode and save the content\n",
    "                with open(save_path, 'wb') as pdf_file:\n",
    "                    pdf_file.write(response.content)\n",
    "                \n",
    "                print(f\"PDF downloaded and saved as '{save_path}'\")\n",
    "            else:\n",
    "                print(f\"Failed to download PDF. Status code: {response.status_code}\")\n",
    "\n",
    "        except requests.exceptions.RequestException as e:\n",
    "            print(f\"An error occurred: {e}\")\n"
   ]
  },
  {
   "cell_type": "code",
   "execution_count": null,
   "metadata": {},
   "outputs": [],
   "source": [
    "download_pdf_files()"
   ]
  },
  {
   "cell_type": "markdown",
   "metadata": {},
   "source": [
    "# ALL PDFS ThAT ARE DONWLOADED WILL Go TO THE BATCH_DOWNLOADS FOLDER"
   ]
  },
  {
   "cell_type": "code",
   "execution_count": null,
   "metadata": {},
   "outputs": [],
   "source": [
    "import os\n",
    "import shutil\n",
    "\n",
    "SOURCE_DIR = '/Users/axelsagundo/x_crimelog'\n",
    "DEST_DIR = '/Users/axelsagundo/x_crimelog/batch_downloads'\n",
    "\n",
    "for fname in os.listdir(SOURCE_DIR):\n",
    "    if fname.lower().endswith('.pdf'):\n",
    "        shutil.move(os.path.join(SOURCE_DIR, fname), DEST_DIR)\n",
    "\n"
   ]
  },
  {
   "cell_type": "markdown",
   "metadata": {},
   "source": [
    "# NOW WE CAN START CONVERTING EVERY PDF TO TEXT AND TWEET IT OUT. "
   ]
  },
  {
   "cell_type": "markdown",
   "metadata": {},
   "source": []
  },
  {
   "cell_type": "code",
   "execution_count": null,
   "metadata": {},
   "outputs": [],
   "source": [
    "import pdfplumber"
   ]
  },
  {
   "cell_type": "markdown",
   "metadata": {},
   "source": [
    "# Function to generate the Output .txt files that contain the content of each pdf download"
   ]
  },
  {
   "cell_type": "code",
   "execution_count": null,
   "metadata": {},
   "outputs": [],
   "source": [
    "def generate_output_txt_files(sorted_saved_pdf_names):\n",
    "    counter2 = -1\n",
    "\n",
    "    for pdf_filename in sorted_saved_pdf_names:\n",
    "        pdf = pdfplumber.open(pdf_filename)\n",
    "        outputtxt = \"{n}.txt\".format(n = pdf_filename.split('.pdf')[0])\n",
    "        try:\n",
    "            # Open and read the JSON file\n",
    "            with open(outputtxt, 'w') as file:\n",
    "\n",
    "                for page in pdf.pages:\n",
    "                    txt = page.extract_text()\n",
    "                    txt = txt.split('\\n')\n",
    "\n",
    "                    for line in txt:\n",
    "                        if 'UCSD POLICE DEPARTMENT' in line or 'CRIME AND FIRE LOG/MEDIA BULLETIN' in line:\n",
    "                            counter2 = 0\n",
    "                            continue\n",
    "                        if counter2 != -1:\n",
    "                            counter2 = -1\n",
    "                            continue\n",
    "                        if line == \"\\n\":\n",
    "                            continue\n",
    "                        if line == \" \":\n",
    "                            continue\n",
    "\n",
    "                        file.write(line)\n",
    "                        file.write(\"\\n\")\n",
    "                        \n",
    "                        if 'Disposition' in line:\n",
    "                            file.write(\">\")\n",
    "                            file.write(\"\\n\")\n",
    "        \n",
    "        except IOError as e:\n",
    "            print(f\"An error occurred: {e}\")\n",
    "    "
   ]
  },
  {
   "cell_type": "code",
   "execution_count": null,
   "metadata": {},
   "outputs": [],
   "source": [
    "sorted_saved_pdf_names = [pdf.replace(' ', '_').replace(',', '') for pdf in pdf_batch_list]\n",
    "\n",
    "sorted_saved_pdf_names"
   ]
  },
  {
   "cell_type": "code",
   "execution_count": null,
   "metadata": {},
   "outputs": [],
   "source": [
    "generate_output_txt_files(sorted_saved_pdf_names)"
   ]
  },
  {
   "cell_type": "markdown",
   "metadata": {},
   "source": [
    "# We have succesfully made text files for all of aug 6 - 10\n"
   ]
  },
  {
   "cell_type": "markdown",
   "metadata": {},
   "source": [
    "# Time to start tweeting the content inside these text files. "
   ]
  },
  {
   "cell_type": "code",
   "execution_count": null,
   "metadata": {},
   "outputs": [],
   "source": [
    "import tweepy\n",
    "import os\n",
    "import traceback\n",
    "import time\n",
    "\n",
    "bearer_token = os.environ.get('BEARER_TOKEN')\n",
    "consumer_key = os.environ.get('CONSUMER_KEY')\n",
    "consumer_secret = os.environ.get('CONSUMER_SECRET')\n",
    "api_key = os.environ.get('API_KEY')\n",
    "api_key_secret = os.environ.get('API_KEY_SECRET')\n",
    "access_token = os.environ.get('ACCESS_TOKEN')\n",
    "access_token_secret = os.environ.get('ACCESS_TOKEN_SECRET')\n",
    "\n",
    "client = tweepy.Client(bearer_token, api_key, api_key_secret, access_token, access_token_secret)\n"
   ]
  },
  {
   "cell_type": "code",
   "execution_count": null,
   "metadata": {},
   "outputs": [],
   "source": [
    "def get_array_cases(pdfpath):\n",
    "    case_array = []\n",
    "    linecounter= 0\n",
    "    case_text = \"\"\n",
    "\n",
    "    with open(pdfpath) as f:\n",
    "        for line in f:\n",
    "            linecounter += 1\n",
    "            if line.split(): #line is not empty\n",
    "                if '>' not in line:\n",
    "                    case_text +=  line\n",
    "                else:\n",
    "                    case_array.append(case_text)\n",
    "                    case_text = \"\"\n",
    "\n",
    "    return case_array\n",
    "\n"
   ]
  },
  {
   "cell_type": "code",
   "execution_count": null,
   "metadata": {},
   "outputs": [],
   "source": [
    "def get_array_cases_2(pdfpath):\n",
    "    case_array = []\n",
    "    nu_case_array = []\n",
    "\n",
    "    case = []\n",
    "    case_array_line = \"\"\n",
    "\n",
    "\n",
    "    try:\n",
    "        with open(pdfpath, 'r') as file:\n",
    "            for line in file:\n",
    "                if '>' in line:\n",
    "                    if len(case_array_line) > 280:\n",
    "                        length = len(case_array_line)\n",
    "\n",
    "                        while length > 280:\n",
    "                            length = length - len(case[2])\n",
    "                            del case[2]\n",
    "                        arr= ''\n",
    "                        for lyne in case:\n",
    "                            arr+=lyne             \n",
    "                        case_array.append(case)\n",
    "                        nu_case_array.append(arr)\n",
    "                        case = []\n",
    "                        case_array_line = \"\"\n",
    "\n",
    "                    else:\n",
    "\n",
    "\n",
    "                        case_array.append(case)\n",
    "                        nu_case_array.append(case_array_line)\n",
    "\n",
    "                        case = []\n",
    "                        case_array_line = \"\"\n",
    "                else:\n",
    "                    case_array_line += line\n",
    "                    case.append(line)\n",
    "\n",
    "    except IOError as e:\n",
    "        print(f\"An error occurred: {e}\")\n",
    "\n",
    "    return nu_case_array\n",
    "\n",
    "\n",
    "\n",
    "# def get_array_cases_2(pdfpath):\n",
    "#     case_array = []\n",
    "#     case = []\n",
    "#     case_array_line = \"\"\n",
    "\n",
    "\n",
    "#     try:\n",
    "#         with open(pdfpath, 'r') as file:\n",
    "#             for line in file:\n",
    "#                 if line.split(): #line is not empty\n",
    "#                     if '>' in line:\n",
    "#                         if len(case_array_line) > 280:\n",
    "#                             length = len(case_array_line)\n",
    "\n",
    "#                             while length > 280:\n",
    "#                                 length = length - len(case[1])\n",
    "#                                 case[1] = ''\n",
    "\n",
    "#                             print(case_array_line)\n",
    "#                             print(len(case_array_line))\n",
    "#                             print(\"------------------\")\n",
    "\n",
    "#                         case_array.append(case)\n",
    "#                         case = []\n",
    "#                         case_array_line = \"\"\n",
    "#                     else:\n",
    "#                         case_array_line += line\n",
    "#                         case.append(line)\n",
    "#     except IOError as e:\n",
    "#         print(f\"An error occurred: {e}\")\n",
    "\n",
    "\n",
    "\n",
    "#     return case_array"
   ]
  },
  {
   "cell_type": "code",
   "execution_count": null,
   "metadata": {},
   "outputs": [],
   "source": [
    "pdfpaf='./August_10_2023.txt'\n",
    "cases = get_array_cases_2(pdfpaf)\n",
    "print(cases)"
   ]
  },
  {
   "cell_type": "code",
   "execution_count": null,
   "metadata": {},
   "outputs": [],
   "source": [
    "def filtr(msgs):\n",
    "    ye =  []\n",
    "    for case in msgs:\n",
    "        if 'Incomplete' in case or 'False Alarm' in case:\n",
    "            continue\n",
    "        else:\n",
    "            ye.append(case)\n",
    "    return ye"
   ]
  },
  {
   "cell_type": "code",
   "execution_count": null,
   "metadata": {},
   "outputs": [],
   "source": [
    "filtered_cases = filtr(cases)\n",
    "print(filtered_cases)"
   ]
  },
  {
   "cell_type": "code",
   "execution_count": null,
   "metadata": {},
   "outputs": [],
   "source": [
    "def tweetallcases(array):\n",
    "    for msg in array:\n",
    "        try: \n",
    "            client.create_tweet(text=msg)\n",
    "        except Exception:\n",
    "            traceback.print_exc()\n",
    "            print(\"This message gave an error: \", msg)\n",
    "            continue\n",
    "        \n",
    "        time.sleep(50)"
   ]
  },
  {
   "cell_type": "code",
   "execution_count": null,
   "metadata": {},
   "outputs": [],
   "source": [
    "tweetallcases(filtered_cases)"
   ]
  },
  {
   "cell_type": "code",
   "execution_count": null,
   "metadata": {},
   "outputs": [],
   "source": [
    "len(filtered_cases)"
   ]
  }
 ],
 "metadata": {
  "kernelspec": {
   "display_name": "base",
   "language": "python",
   "name": "python3"
  },
  "language_info": {
   "codemirror_mode": {
    "name": "ipython",
    "version": 3
   },
   "file_extension": ".py",
   "mimetype": "text/x-python",
   "name": "python",
   "nbconvert_exporter": "python",
   "pygments_lexer": "ipython3",
   "version": "3.9.12"
  },
  "orig_nbformat": 4
 },
 "nbformat": 4,
 "nbformat_minor": 2
}
